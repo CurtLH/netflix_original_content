{
 "cells": [
  {
   "cell_type": "code",
   "execution_count": 91,
   "metadata": {
    "collapsed": true
   },
   "outputs": [],
   "source": [
    "import csv\n",
    "import json\n",
    "import psycopg2\n",
    "from pprint import pprint\n",
    "from dateutil import parser\n",
    "from datetime import datetime"
   ]
  },
  {
   "cell_type": "code",
   "execution_count": 92,
   "metadata": {
    "collapsed": true
   },
   "outputs": [],
   "source": [
    "# connect to the tweets database\n",
    "conn = psycopg2.connect(database=\"postgres\",\n",
    "                        user=\"postgres\",\n",
    "                        password=\"apassword\",\n",
    "                        host=\"localhost\")\n",
    "\n",
    "# define the cursor to be able to query the database\n",
    "cur = conn.cursor()"
   ]
  },
  {
   "cell_type": "code",
   "execution_count": 93,
   "metadata": {},
   "outputs": [],
   "source": [
    "# query the database and store the results in a list a list of dicts\n",
    "cur.execute(\"SELECT tweet FROM twitter\")\n",
    "tweets_all = [record[0] for record in cur]"
   ]
  },
  {
   "cell_type": "code",
   "execution_count": 94,
   "metadata": {},
   "outputs": [
    {
     "data": {
      "text/plain": [
       "124672"
      ]
     },
     "execution_count": 94,
     "metadata": {},
     "output_type": "execute_result"
    }
   ],
   "source": [
    "len(tweets_all)"
   ]
  },
  {
   "cell_type": "code",
   "execution_count": 95,
   "metadata": {},
   "outputs": [],
   "source": [
    "# classify tweets as retweet/mention/tweet\n",
    "for line in tweets_all:\n",
    "    if 'retweeted_status' in line:\n",
    "        line['TWEET_TYPE'] = 'retweet'\n",
    "    elif len(line['entities']['user_mentions']) > 0:\n",
    "        line['TWEET_TYPE'] = 'mention'\n",
    "    else:\n",
    "        line['TWEET_TYPE'] = 'tweet'"
   ]
  },
  {
   "cell_type": "code",
   "execution_count": 96,
   "metadata": {},
   "outputs": [],
   "source": [
    "# extract relevant content from tweets\n",
    "tweets = []\n",
    "for line in tweets_all:\n",
    "    row = {'user' : line['user']['screen_name'],\n",
    "           'text' : line['text'].encode('unicode_escape'),\n",
    "           'datetime' : parser.parse(line['created_at']),\n",
    "           'type' : line['TWEET_TYPE'],\n",
    "           'id' : line['id_str']}\n",
    "    tweets.append(row)"
   ]
  },
  {
   "cell_type": "code",
   "execution_count": 97,
   "metadata": {},
   "outputs": [
    {
     "data": {
      "text/plain": [
       "{'datetime': datetime.datetime(2016, 12, 17, 21, 13, 29, tzinfo=tzutc()),\n",
       " 'id': u'810231467683016704',\n",
       " 'text': 'The OA on Netflix goes crazy, as does \"3%\"',\n",
       " 'type': 'tweet',\n",
       " 'user': u'Alivingtribunal'}"
      ]
     },
     "execution_count": 97,
     "metadata": {},
     "output_type": "execute_result"
    }
   ],
   "source": [
    "# print a sample of one tweet\n",
    "tweets[0]"
   ]
  },
  {
   "cell_type": "code",
   "execution_count": 98,
   "metadata": {},
   "outputs": [
    {
     "name": "stdout",
     "output_type": "stream",
     "text": [
      "The OA on Netflix goes crazy, as does \"3%\"\n",
      "RT @reaganbabyxx: seriously love just laying around watching Netflix and not having to worry about tests papers or projects\n",
      "If you love science fiction &amp; stuff on alternate dimensions, then check out The OA on Netflix !\n",
      "Forget The Get Down, if you want to learn the true story, you need to watch Hip Hop Evolution on Netflix, excellent documentary series\n",
      "RT @PelisResumidas: The Crown: Serie de Netflix que nos muestra que la reina Isabel II no siempre fue una vieja gru\\xf1ona. https://t.co/pP9fM\\u2026\n",
      "Ent\\xe9rate de todos los detalles de #Sense8Season2, y del especial de #navidad que se viene \\U0001f385\\n#Sense8 #series #netflix https://t.co/4Jp9elAkSJ\n",
      "Netflix trekt stekker uit serie Marco Polo https://t.co/PUuusukhZ4 via @Easy_Branches @auteurjanjansen #easybranches https://t.co/IeZwv3gNNo\n",
      "Netflix trekt stekker uit serie Marco Polo https://t.co/PUuusukhZ4 via @Easy_Branches @auteurjanjansen #easybranches https://t.co/IeZwv3gNNo\n",
      "Love Actually gets only two stars on Netflix!? What in the actual f? @Netflix_CA look into this \\u2b50\\ufe0f\\u2b50\\ufe0f\\u2b50\\ufe0f\\u2b50\\ufe0f\\u2b50\\ufe0f\\u2b50\\ufe0f\\u2b50\\ufe0f\\u2b50\\ufe0f\n",
      "Stranger Things but with a soul.  Well written, acted &amp; directed.  Brad Pitt (thankfully NOT acting in the series)\\u2026 https://t.co/HYHlpn2G6c\n"
     ]
    }
   ],
   "source": [
    "for line in tweets[:10]:\n",
    "    print line['text']"
   ]
  },
  {
   "cell_type": "code",
   "execution_count": 99,
   "metadata": {},
   "outputs": [],
   "source": [
    "# load Netflix content into a list of dicts\n",
    "# query the database and store the results in a list a list of dicts\n",
    "cur.execute(\"SELECT * FROM tvshow\")\n",
    "netflix = [record for record in cur]"
   ]
  },
  {
   "cell_type": "code",
   "execution_count": 100,
   "metadata": {},
   "outputs": [],
   "source": [
    "# get a unique set of titles to look for matches.  To minimize frivolous matches, only add titles longer than 4 characters\n",
    "netflix_titles = set()\n",
    "for line in netflix:\n",
    "    if len(line[6]) > 5:\n",
    "        netflix_titles.add(line[6])"
   ]
  },
  {
   "cell_type": "code",
   "execution_count": 101,
   "metadata": {},
   "outputs": [
    {
     "data": {
      "text/plain": [
       "{'datetime': datetime.datetime(2016, 12, 17, 21, 13, 29, tzinfo=tzutc()),\n",
       " 'id': u'810231467683016704',\n",
       " 'text': 'The OA on Netflix goes crazy, as does \"3%\"',\n",
       " 'type': 'tweet',\n",
       " 'user': u'Alivingtribunal'}"
      ]
     },
     "execution_count": 101,
     "metadata": {},
     "output_type": "execute_result"
    }
   ],
   "source": [
    "tweets[0]"
   ]
  },
  {
   "cell_type": "code",
   "execution_count": 102,
   "metadata": {},
   "outputs": [],
   "source": [
    "# look through all of the tweets to find matches with the Netflix titles\n",
    "netflix_tweets = []\n",
    "for line in tweets:\n",
    "    line['Netflix_match'] = []\n",
    "    for row in netflix_titles:\n",
    "        if row.lower() in line['text'].lower() and 'netflix' in line['text'].lower():\n",
    "            line['Netflix_match'].append(row)\n",
    "            netflix_tweets.append(line)"
   ]
  },
  {
   "cell_type": "code",
   "execution_count": 103,
   "metadata": {},
   "outputs": [
    {
     "data": {
      "text/plain": [
       "{'Netflix_match': ['The Get Down'],\n",
       " 'datetime': datetime.datetime(2016, 12, 17, 21, 14, 16, tzinfo=tzutc()),\n",
       " 'id': u'810231661354958849',\n",
       " 'text': 'Forget The Get Down, if you want to learn the true story, you need to watch Hip Hop Evolution on Netflix, excellent documentary series',\n",
       " 'type': 'tweet',\n",
       " 'user': u'mildoo72'}"
      ]
     },
     "execution_count": 103,
     "metadata": {},
     "output_type": "execute_result"
    }
   ],
   "source": [
    "# print a sample row of the data\n",
    "netflix_tweets[0]"
   ]
  },
  {
   "cell_type": "code",
   "execution_count": 104,
   "metadata": {
    "collapsed": true
   },
   "outputs": [],
   "source": [
    "# extract only tweets with at least one match\n",
    "netflix_tweets = []\n",
    "for line in tweets:\n",
    "    if len(line['Netflix_match']) > 0:\n",
    "        netflix_tweets.append(line)"
   ]
  },
  {
   "cell_type": "code",
   "execution_count": 105,
   "metadata": {},
   "outputs": [],
   "source": [
    "# for multiple matches, choose only the first match\n",
    "for line in netflix_tweets:\n",
    "    line['Title'] = line['Netflix_match'][0]"
   ]
  },
  {
   "cell_type": "code",
   "execution_count": 106,
   "metadata": {},
   "outputs": [
    {
     "name": "stdout",
     "output_type": "stream",
     "text": [
      "Number of tweets originally:  124672\n",
      "Number of Netflix tweets:  83118\n"
     ]
    }
   ],
   "source": [
    "# how many tweets remain?\n",
    "print \"Number of tweets originally: \", len(tweets)\n",
    "print \"Number of Netflix tweets: \", len(netflix_tweets)"
   ]
  },
  {
   "cell_type": "code",
   "execution_count": 107,
   "metadata": {
    "scrolled": true
   },
   "outputs": [
    {
     "name": "stdout",
     "output_type": "stream",
     "text": [
      "['The Get Down']\n",
      "Forget The Get Down, if you want to learn the true story, you need to watch Hip Hop Evolution on Netflix, excellent documentary series\n",
      "\n",
      "\n",
      "['The Crown']\n",
      "RT @PelisResumidas: The Crown: Serie de Netflix que nos muestra que la reina Isabel II no siempre fue una vieja gru\\xf1ona. https://t.co/pP9fM\\u2026\n",
      "\n",
      "\n",
      "['Sense8']\n",
      "Ent\\xe9rate de todos los detalles de #Sense8Season2, y del especial de #navidad que se viene \\U0001f385\\n#Sense8 #series #netflix https://t.co/4Jp9elAkSJ\n",
      "\n",
      "\n",
      "['Marco Polo']\n",
      "Netflix trekt stekker uit serie Marco Polo https://t.co/PUuusukhZ4 via @Easy_Branches @auteurjanjansen #easybranches https://t.co/IeZwv3gNNo\n",
      "\n",
      "\n",
      "['Marco Polo']\n",
      "Netflix trekt stekker uit serie Marco Polo https://t.co/PUuusukhZ4 via @Easy_Branches @auteurjanjansen #easybranches https://t.co/IeZwv3gNNo\n",
      "\n",
      "\n"
     ]
    }
   ],
   "source": [
    "# print a few sample matches to verify\n",
    "for line in netflix_tweets[:5]:\n",
    "    print(line['Netflix_match'])\n",
    "    print(line['text'])\n",
    "    print(\"\\n\")"
   ]
  },
  {
   "cell_type": "code",
   "execution_count": 108,
   "metadata": {},
   "outputs": [],
   "source": [
    "# write Netflix tweets to a CSV file\n",
    "with open('Netflix_tweets_2.csv', 'w') as f:\n",
    "    writer = csv.DictWriter(f, netflix_tweets[0].keys())\n",
    "    writer.writeheader()\n",
    "    writer.writerows(netflix_tweets)"
   ]
  },
  {
   "cell_type": "code",
   "execution_count": null,
   "metadata": {
    "collapsed": true
   },
   "outputs": [],
   "source": []
  }
 ],
 "metadata": {
  "kernelspec": {
   "display_name": "Python 3",
   "language": "python",
   "name": "python3"
  },
  "language_info": {
   "codemirror_mode": {
    "name": "ipython",
    "version": 3
   },
   "file_extension": ".py",
   "mimetype": "text/x-python",
   "name": "python",
   "nbconvert_exporter": "python",
   "pygments_lexer": "ipython3",
   "version": "3.5.3"
  }
 },
 "nbformat": 4,
 "nbformat_minor": 1
}
